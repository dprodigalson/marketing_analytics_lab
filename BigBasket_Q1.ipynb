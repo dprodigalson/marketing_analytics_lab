{
 "cells": [
  {
   "cell_type": "code",
   "execution_count": null,
   "id": "b2604769",
   "metadata": {},
   "outputs": [],
   "source": [
    "import pandas as pd\n",
    "import numpy as np\n",
    "# Visualize the category ratings distribution using a bar chart\n",
    "import matplotlib.pyplot as plt"
   ]
  },
  {
   "cell_type": "code",
   "execution_count": null,
   "id": "674385b2",
   "metadata": {},
   "outputs": [],
   "source": [
    "bigbasket_data = pd.read_excel('BigBasket.xlsx')"
   ]
  },
  {
   "cell_type": "code",
   "execution_count": null,
   "id": "fe656395",
   "metadata": {},
   "outputs": [],
   "source": [
    "bigbasket_data"
   ]
  },
  {
   "cell_type": "code",
   "execution_count": null,
   "id": "f150126a",
   "metadata": {},
   "outputs": [],
   "source": [
    "# Task for Lab Exercise 1\n",
    "# Calculate the average rating for each product category\n",
    "average_ratings_by_category = bigbasket_data.groupby('category')['rating'].mean().sort_values(ascending=False)\n",
    "\n",
    "\n",
    "\n",
    "plt.figure(figsize=(10, 6))\n",
    "average_ratings_by_category.plot(kind='bar', color='skyblue')\n",
    "plt.title('Average Customer Rating by Product Category')\n",
    "plt.xlabel('Product Category')\n",
    "plt.ylabel('Average Rating')\n",
    "plt.xticks(rotation=45, ha='right')\n",
    "plt.tight_layout()\n",
    "plt.show()\n",
    "\n",
    "# Display the ranking of categories\n",
    "average_ratings_by_category"
   ]
  },
  {
   "cell_type": "markdown",
   "id": "48bc2e23",
   "metadata": {},
   "source": [
    "The average ratings for each product category have been calculated and ranked. Here are some insights from the analysis:\n",
    "\n",
    "\t•\tTop-rated categories:\n",
    "\t•\t“Baby Care” (4.08)\n",
    "\t•\t“Foodgrains, Oil & Masala” (4.08)\n",
    "\t•\t“Bakery, Cakes & Dairy” (4.06)\n",
    "\t•\tLowest-rated categories:\n",
    "\t•\t“Kitchen, Garden & Pets” (3.57)\n",
    "\t•\t“Cleaning & Household” (3.78)\n",
    "\n",
    "Categories like “Eggs, Meat & Fish” and “Fruits & Vegetables” do not have ratings, possibly due to missing data.\n",
    "\n",
    "Marketing Strategy Suggestions:\n",
    "\n",
    "\t•\tPromote high-rated categories:\n",
    "\t•\tEmphasize categories like “Baby Care” and “Foodgrains, Oil & Masala” in marketing campaigns, leveraging their positive reviews to attract customers.\n",
    "\t•\tImprove lower-rated categories:\n",
    "\t•\tFor “Kitchen, Garden & Pets” and “Cleaning & Household,” consider targeted promotions like discounts, improving product quality, or customer feedback initiatives."
   ]
  }
 ],
 "metadata": {
  "kernelspec": {
   "display_name": "venv",
   "language": "python",
   "name": "python3"
  },
  "language_info": {
   "codemirror_mode": {
    "name": "ipython",
    "version": 3
   },
   "file_extension": ".py",
   "mimetype": "text/x-python",
   "name": "python",
   "nbconvert_exporter": "python",
   "pygments_lexer": "ipython3",
   "version": "3.12.4"
  }
 },
 "nbformat": 4,
 "nbformat_minor": 5
}
