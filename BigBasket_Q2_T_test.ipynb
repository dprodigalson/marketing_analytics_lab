{
 "cells": [
  {
   "cell_type": "code",
   "execution_count": 6,
   "id": "f18df3f7",
   "metadata": {},
   "outputs": [
    {
     "name": "stdout",
     "output_type": "stream",
     "text": [
      "T-statistic: 9.0317\n",
      "P-value: 7.6123e-17\n"
     ]
    }
   ],
   "source": [
    "import numpy as np\n",
    "from scipy import stats\n",
    "\n",
    "# Simulating sample data for two groups: \n",
    "# - `recommendation_feature`: customers who used the recommendation feature\n",
    "# - `no_recommendation_feature`: customers who did not use the recommendation feature\n",
    "\n",
    "np.random.seed(0)  # For reproducibility\n",
    "\n",
    "# Simulating order values (in currency units)\n",
    "# Customers who used the recommendation feature tend to have higher order values\n",
    "recommendation_feature = np.random.normal(loc=120, scale=15, size=100)  # Mean=120, SD=15\n",
    "no_recommendation_feature = np.random.normal(loc=100, scale=15, size=100)  # Mean=100, SD=15\n",
    "\n",
    "# Conducting an independent two-sample t-test (one-tailed)\n",
    "t_stat, p_value = stats.ttest_ind(recommendation_feature, no_recommendation_feature, alternative='greater')\n",
    "\n",
    "print(f\"T-statistic: {t_stat:.4f}\")\n",
    "print(f\"P-value: {p_value:.4e}\")"
   ]
  },
  {
   "cell_type": "markdown",
   "id": "0dc69e59",
   "metadata": {},
   "source": [
    "Interpreting the Results\n",
    "\n",
    "\t•\tIf p_value < 0.05, we can reject the null hypothesis, suggesting that the recommendation feature significantly increases the average order value.\n",
    "\t•\tIf p_value >= 0.05, we fail to reject the null hypothesis, meaning there’s not enough evidence to claim the feature increases Average Order Value (AOV)."
   ]
  }
 ],
 "metadata": {
  "kernelspec": {
   "display_name": "venv",
   "language": "python",
   "name": "python3"
  },
  "language_info": {
   "codemirror_mode": {
    "name": "ipython",
    "version": 3
   },
   "file_extension": ".py",
   "mimetype": "text/x-python",
   "name": "python",
   "nbconvert_exporter": "python",
   "pygments_lexer": "ipython3",
   "version": "3.12.4"
  }
 },
 "nbformat": 4,
 "nbformat_minor": 5
}
