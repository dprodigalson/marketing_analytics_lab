{
 "cells": [
  {
   "cell_type": "code",
   "execution_count": null,
   "id": "b2604769",
   "metadata": {},
   "outputs": [],
   "source": [
    "import pandas as pd\n",
    "import numpy as np\n",
    "# Visualize the category ratings distribution using a bar chart\n",
    "import matplotlib.pyplot as plt"
   ]
  },
  {
   "cell_type": "code",
   "execution_count": null,
   "id": "674385b2",
   "metadata": {},
   "outputs": [],
   "source": [
    "bigbasket_data = pd.read_excel('BigBasket.xlsx')"
   ]
  },
  {
   "cell_type": "code",
   "execution_count": null,
   "id": "fe656395",
   "metadata": {},
   "outputs": [],
   "source": [
    "bigbasket_data"
   ]
  },
  {
   "cell_type": "code",
   "execution_count": null,
   "id": "f150126a",
   "metadata": {},
   "outputs": [],
   "source": [
    "# Task for Lab Exercise 1\n",
    "# Calculate the average rating for each product category\n",
    "average_ratings_by_category = bigbasket_data.groupby('category')['rating'].mean().sort_values(ascending=False)\n",
    "\n",
    "\n",
    "\n",
    "plt.figure(figsize=(10, 6))\n",
    "average_ratings_by_category.plot(kind='bar', color='skyblue')\n",
    "plt.title('Average Customer Rating by Product Category')\n",
    "plt.xlabel('Product Category')\n",
    "plt.ylabel('Average Rating')\n",
    "plt.xticks(rotation=45, ha='right')\n",
    "plt.tight_layout()\n",
    "plt.show()\n",
    "\n",
    "# Display the ranking of categories\n",
    "average_ratings_by_category"
   ]
  },
  {
   "cell_type": "markdown",
   "id": "48bc2e23",
   "metadata": {},
   "source": [
    "The average ratings for each product category have been calculated and ranked. Here are some insights from the analysis:\n",
    "\n",
    "\t•\tTop-rated categories:\n",
    "\t•\t“Baby Care” (4.08)\n",
    "\t•\t“Foodgrains, Oil & Masala” (4.08)\n",
    "\t•\t“Bakery, Cakes & Dairy” (4.06)\n",
    "\t•\tLowest-rated categories:\n",
    "\t•\t“Kitchen, Garden & Pets” (3.57)\n",
    "\t•\t“Cleaning & Household” (3.78)\n",
    "\n",
    "Categories like “Eggs, Meat & Fish” and “Fruits & Vegetables” do not have ratings, possibly due to missing data.\n",
    "\n",
    "Marketing Strategy Suggestions:\n",
    "\n",
    "\t•\tPromote high-rated categories:\n",
    "\t•\tEmphasize categories like “Baby Care” and “Foodgrains, Oil & Masala” in marketing campaigns, leveraging their positive reviews to attract customers.\n",
    "\t•\tImprove lower-rated categories:\n",
    "\t•\tFor “Kitchen, Garden & Pets” and “Cleaning & Household,” consider targeted promotions like discounts, improving product quality, or customer feedback initiatives."
   ]
  },
  {
   "cell_type": "markdown",
   "id": "530657ad",
   "metadata": {},
   "source": [
    "Q4"
   ]
  },
  {
   "cell_type": "code",
   "execution_count": null,
   "id": "e5ec296a",
   "metadata": {},
   "outputs": [],
   "source": [
    "# Display the first few rows of the dataset to understand its structure\n",
    "bigbasket_data.head()"
   ]
  },
  {
   "cell_type": "code",
   "execution_count": null,
   "id": "06422e0b",
   "metadata": {},
   "outputs": [],
   "source": [
    "from sklearn.cluster import KMeans\n",
    "from sklearn.preprocessing import StandardScaler\n",
    "import matplotlib.pyplot as plt\n",
    "\n",
    "# Selecting the relevant columns for clustering\n",
    "data_for_clustering = bigbasket_data[['sale_price', 'rating']].dropna()\n",
    "\n",
    "# Standardizing the data for clustering\n",
    "scaler = StandardScaler()\n",
    "data_scaled = scaler.fit_transform(data_for_clustering)\n",
    "\n",
    "# Using the Elbow Method to find the optimal number of clusters\n",
    "inertia = []\n",
    "range_n_clusters = range(1, 11)\n",
    "\n",
    "for k in range_n_clusters:\n",
    "    kmeans = KMeans(n_clusters=k, random_state=0)\n",
    "    kmeans.fit(data_scaled)\n",
    "    inertia.append(kmeans.inertia_)\n",
    "\n",
    "# Plotting the Elbow curve\n",
    "plt.figure(figsize=(8, 5))\n",
    "plt.plot(range_n_clusters, inertia, marker='o')\n",
    "plt.title(\"Elbow Method for Optimal k\")\n",
    "plt.xlabel(\"Number of clusters (k)\")\n",
    "plt.ylabel(\"Inertia\")\n",
    "plt.show()"
   ]
  },
  {
   "cell_type": "markdown",
   "id": "463d449c",
   "metadata": {},
   "source": [
    "The Elbow Method plot indicates the optimal number of clusters. Typically, the “elbow” point suggests a good balance between model simplicity and accuracy. Based on this, I’ll select an appropriate number of clusters (likely around 3 or 4) and proceed with clustering and visualizing the results. "
   ]
  },
  {
   "cell_type": "code",
   "execution_count": null,
   "id": "4a26d036",
   "metadata": {},
   "outputs": [],
   "source": [
    "# Choosing 4 clusters based on the elbow method and applying K-Means\n",
    "kmeans = KMeans(n_clusters=4, random_state=0)\n",
    "clusters = kmeans.fit_predict(data_scaled)\n",
    "\n",
    "# Adding cluster labels to the original dataset for analysis\n",
    "data_for_clustering['Cluster'] = clusters\n",
    "\n",
    "# Inverse transform to get back to original scale for interpretation\n",
    "data_for_clustering[['sale_price', 'rating']] = scaler.inverse_transform(data_scaled)\n",
    "\n",
    "# Visualizing the clusters\n",
    "plt.figure(figsize=(10, 7))\n",
    "plt.scatter(data_for_clustering['sale_price'], data_for_clustering['rating'], c=data_for_clustering['Cluster'], cmap='viridis', s=50)\n",
    "plt.colorbar(label='Cluster')\n",
    "plt.xlabel(\"Sale Price\")\n",
    "plt.ylabel(\"Rating\")\n",
    "plt.title(\"K-Means Clustering of Products by Sale Price and Rating\")\n",
    "plt.show()"
   ]
  },
  {
   "cell_type": "markdown",
   "id": "6840d2a6",
   "metadata": {},
   "source": [
    "The scatter plot shows the segmentation of products into four clusters based on sale price and rating. Here’s an interpretation of each cluster and potential marketing insights:\n",
    "\n",
    "\t1.\tLow Price / High Rating (e.g., Cluster 1): These products are affordable and highly rated, indicating strong customer satisfaction. Marketing could focus on highlighting value for money, possibly bundling these items with other popular products to encourage cross-selling.\n",
    "\t2.\tLow Price / Low Rating (e.g., Cluster 2): These products are budget-friendly but have lower ratings. Marketing strategies could focus on improving product perception, possibly by encouraging reviews or highlighting positive aspects. Promoting discounts or limited-time offers could also attract attention.\n",
    "\t3.\tHigh Price / High Rating (e.g., Cluster 3): High-cost, high-rated products signify premium quality. These can be marketed as luxury or premium items, targeting customers who prioritize quality over price. Emphasizing features and unique selling points in advertisements would be effective.\n",
    "\t4.\tHigh Price / Low Rating (e.g., Cluster 4): These products are expensive yet not highly rated, suggesting they may not meet customer expectations. Marketing could focus on highlighting improvements, collecting feedback for adjustments, or providing assurance with money-back guarantees to rebuild customer trust.\n",
    "\n",
    "These segments offer tailored approaches to enhance customer satisfaction and drive sales across different price and quality perceptions."
   ]
  },
  {
   "cell_type": "code",
   "execution_count": null,
   "id": "b3bf96ed",
   "metadata": {},
   "outputs": [],
   "source": []
  },
  {
   "cell_type": "markdown",
   "id": "0fadd3c6",
   "metadata": {},
   "source": [
    "Lab Exercise 5:\n",
    "\n",
    "Background:\n",
    "SocialConnect, a leading social media platform, is seeking to enhance its advertising revenue by better understanding the connections between users and their interactions on the platform. They have collected extensive data on user demographics, engagement metrics, and social connections. The marketing team believes that employing link analysis and online analytical processing (OLAP) techniques will enable them to uncover valuable insights for targeted advertising and content personalization.\n",
    "\n",
    "Question:\n",
    "As a data analyst at SocialConnect, develop a comprehensive plan for utilizing both link analysis and OLAP techniques to extract actionable insights from the platform's data. Explain how you would integrate these two methods, detailing the specific steps involved in conducting link analysis and OLAP. Provide examples of the types of insights that could be gained through each approach and discuss how these insights could be applied to improve SocialConnect's advertising revenue and user experience. Justify your recommendations and address any potential challenges in implementing these techniques.\n"
   ]
  },
  {
   "cell_type": "markdown",
   "id": "a2004c6b",
   "metadata": {},
   "source": [
    "Q5"
   ]
  },
  {
   "cell_type": "markdown",
   "id": "b3dffbb1",
   "metadata": {},
   "source": [
    "Utilizing Link Analysis and OLAP for SocialConnect\n",
    "\n",
    "Task:\n",
    "\n",
    "As a data analyst at SocialConnect, develop a plan for using both link analysis and OLAP (Online Analytical Processing) techniques to extract actionable insights from user demographics, engagement metrics, and social connections. These insights will be used to improve advertising revenue and content personalization.\n",
    "\n",
    "Solution Plan:\n",
    "\n",
    "\t1.\tData Sources:\n",
    "\t•\tUser Demographics: Age, gender, location, occupation.\n",
    "\t•\tEngagement Metrics: Likes, comments, shares, time spent on platform, click-through rates.\n",
    "\t•\tSocial Connections: Friend networks, interaction frequency between users.\n",
    "\t2.\tLink Analysis:\n",
    "\t•\tPurpose: Analyze the relationships between users to discover influencers, communities, and engagement patterns.\n",
    "\t•\tTechniques:\n",
    "\t•\tNetwork Graphs: Represent users as nodes and interactions as edges to identify clusters of highly connected users.\n",
    "\t•\tCentrality Measures: Identify key influencers based on their position in the network (e.g., users with the highest betweenness or degree centrality).\n",
    "\t•\tCommunity Detection: Detect groups of users with common interests or behaviors.\n",
    "Application:\n",
    "\t•\tTarget these influential users and communities with personalized ads to increase engagement and revenue.\n",
    "\t3.\tOLAP:\n",
    "\t•\tPurpose: Perform multidimensional analysis on user data, breaking it down by demographics, engagement levels, and activity types.\n",
    "\t•\tOLAP Cube: Create a cube that aggregates metrics like total engagement (e.g., total likes, shares) based on dimensions such as age group, region, and social group.\n",
    "\t•\tDrill-Down and Roll-Up: Allow granular exploration of data (e.g., exploring engagement by city, then drilling down to age groups).\n",
    "\t4.\tApplications:\n",
    "\t•\tTargeted Advertising: Use OLAP to identify high-engagement demographics and locations for targeted ad campaigns.\n",
    "\t•\tContent Personalization: Leverage engagement patterns from different user groups to recommend content.\n",
    "\n",
    "Challenges:\n",
    "\n",
    "\t•\tData Integration: Combining link analysis and OLAP insights from different data sources can be complex and require sophisticated data models.\n",
    "\t•\tScalability: Handling large amounts of user interaction data may need advanced computing resources."
   ]
  },
  {
   "cell_type": "code",
   "execution_count": null,
   "id": "17362f38",
   "metadata": {},
   "outputs": [],
   "source": []
  }
 ],
 "metadata": {
  "kernelspec": {
   "display_name": "venv",
   "language": "python",
   "name": "python3"
  },
  "language_info": {
   "codemirror_mode": {
    "name": "ipython",
    "version": 3
   },
   "file_extension": ".py",
   "mimetype": "text/x-python",
   "name": "python",
   "nbconvert_exporter": "python",
   "pygments_lexer": "ipython3",
   "version": "3.12.4"
  }
 },
 "nbformat": 4,
 "nbformat_minor": 5
}
